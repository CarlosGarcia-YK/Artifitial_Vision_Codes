{
 "cells": [
  {
   "cell_type": "code",
   "execution_count": 14,
   "metadata": {},
   "outputs": [],
   "source": [
    "import matplotlib.pyplot as plt\n",
    "import cv2 \n",
    "import numpy as np \n",
    "import os"
   ]
  },
  {
   "cell_type": "code",
   "execution_count": 15,
   "metadata": {},
   "outputs": [],
   "source": [
    "img = cv2.imread(\"pictures\\puerta.jpeg\")\n",
    "gray_img=cv2.cvtColor(img,cv2.COLOR_BGR2GRAY)"
   ]
  },
  {
   "cell_type": "code",
   "execution_count": 16,
   "metadata": {},
   "outputs": [],
   "source": [
    "blurred_img = cv2.GaussianBlur(gray_img, (5, 5), 0)\n",
    "edges = cv2.Canny(blurred_img, 50, 150)\n",
    "edges2 = cv2.Canny(img, 50, 150)"
   ]
  },
  {
   "cell_type": "code",
   "execution_count": 17,
   "metadata": {},
   "outputs": [],
   "source": [
    "plt.subplot(2, 2, 1)\n",
    "plt.imshow(edges, cmap='gray')\n",
    "plt.title(\"Canny\")\n",
    "plt.axis('off')\n",
    "\n",
    "\n",
    "plt.subplot(2, 2, 2)\n",
    "plt.imshow(edges2, cmap='gray')\n",
    "plt.title(\"Canny Without blurred\")\n",
    "plt.axis('off')\n",
    "\n",
    "plt.subplot(2, 2, 3)\n",
    "plt.imshow(gray_img, cmap='gray')\n",
    "plt.title(\"Original IMG\")\n",
    "plt.axis('off')\n",
    "\n",
    "plt.subplot(2, 2, 4)\n",
    "plt.imshow(blurred_img, cmap='gray')\n",
    "plt.title(\"Blured IMG\")\n",
    "plt.axis('off')\n",
    "\n",
    "\n",
    "# Guardar la imagen en tu directorio de trabajo actual\n",
    "output_path = os.path.join(os.getcwd(), 'detected_lines.png')\n",
    "plt.savefig(output_path)  # Guardar la figura como archivo de imagen\n",
    "plt.close()  # Cerrar la figura para liberar memoria\n",
    "\n",
    "# Leer la imagen guardada con OpenCV\n",
    "img = cv2.imread(output_path)\n",
    "cv2.imshow(\"Líneas Detectadas\", img)  # Mostrar la imagen en una ventana emergente\n",
    "\n",
    "# Esperar hasta que se presione una tecla para cerrar la ventana\n",
    "cv2.waitKey(0)\n",
    "cv2.destroyAllWindows()"
   ]
  }
 ],
 "metadata": {
  "kernelspec": {
   "display_name": "Python 3",
   "language": "python",
   "name": "python3"
  },
  "language_info": {
   "codemirror_mode": {
    "name": "ipython",
    "version": 3
   },
   "file_extension": ".py",
   "mimetype": "text/x-python",
   "name": "python",
   "nbconvert_exporter": "python",
   "pygments_lexer": "ipython3",
   "version": "3.11.9"
  }
 },
 "nbformat": 4,
 "nbformat_minor": 2
}
