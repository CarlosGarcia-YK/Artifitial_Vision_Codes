{
 "cells": [
  {
   "cell_type": "code",
   "execution_count": 32,
   "metadata": {},
   "outputs": [],
   "source": [
    "import matplotlib.pyplot as plt\n",
    "import cv2 \n",
    "import numpy as np \n",
    "import os\n"
   ]
  },
  {
   "cell_type": "markdown",
   "metadata": {},
   "source": [
    "Upload the picture"
   ]
  },
  {
   "cell_type": "code",
   "execution_count": 33,
   "metadata": {},
   "outputs": [],
   "source": [
    "img = cv2.imread(\"pictures\\coin.jpeg\")\n",
    "gray_img=cv2.cvtColor(img,cv2.COLOR_BGR2GRAY)"
   ]
  },
  {
   "cell_type": "markdown",
   "metadata": {},
   "source": [
    "90, 0 and 45 degree Matrix"
   ]
  },
  {
   "cell_type": "code",
   "execution_count": 34,
   "metadata": {},
   "outputs": [],
   "source": [
    "horizontal_line = np.array([[-1, -1, -1],[2, 2, 2 ],[- 1, -1 ,-1]])\n",
    "vertical_line = np.array([[-1, 2, -1],[-1, 2, -1 ],[- 1, 2 ,-1]])\n",
    "diagonal_line = np.array([[-1, -1, 2],[-1, 2, -1 ],[2, -1 ,-1]])\n",
    "notdiagonal_line = np.array([[2,-1, -1],[-1, 2, -1 ],[- 1 ,-1,2]])\n"
   ]
  },
  {
   "cell_type": "code",
   "execution_count": 35,
   "metadata": {},
   "outputs": [],
   "source": [
    "horizontal_detected = cv2.filter2D(gray_img,-1,horizontal_line)\n",
    "vertical_detected = cv2.filter2D(gray_img,-1,vertical_line)\n",
    "diagonal_detected = cv2.filter2D(gray_img,-1,diagonal_line)\n",
    "notdiagonal_detected = cv2.filter2D(gray_img,-1,notdiagonal_line)\n",
    "\n"
   ]
  },
  {
   "cell_type": "code",
   "execution_count": 36,
   "metadata": {},
   "outputs": [],
   "source": [
    "plt.figure(figsize=(8, 8))\n",
    "\n",
    "# Mostrar la imagen con las líneas horizontales detectadas\n",
    "plt.subplot(2, 2, 1)\n",
    "plt.imshow(horizontal_detected, cmap='gray')\n",
    "plt.title(\"Horizontal Lines\")\n",
    "plt.axis('off')  # Para ocultar los ejes\n",
    "\n",
    "plt.subplot(2, 2, 2)\n",
    "plt.imshow(vertical_detected, cmap='gray')\n",
    "plt.title(\"Vertical Lines\")\n",
    "plt.axis('off')\n",
    "\n",
    "# Mostrar la imagen con las líneas diagonales detectadas\n",
    "plt.subplot(2, 2, 3)\n",
    "plt.imshow(diagonal_detected, cmap='gray')\n",
    "plt.title(\"Diagonal Lines\")\n",
    "plt.axis('off')\n",
    "\n",
    "# Mostrar la imagen con las líneas no diagonales detectadas\n",
    "plt.subplot(2, 2, 4)\n",
    "plt.imshow(notdiagonal_detected, cmap='gray')\n",
    "plt.title(\"Not Diagonal Lines\")\n",
    "plt.axis('off')\n",
    "\n",
    "# Guardar la imagen en tu directorio de trabajo actual\n",
    "output_path = os.path.join(os.getcwd(), 'detected_lines.png')\n",
    "plt.savefig(output_path)  # Guardar la figura como archivo de imagen\n",
    "plt.close()  # Cerrar la figura para liberar memoria\n",
    "\n",
    "# Leer la imagen guardada con OpenCV\n",
    "img = cv2.imread(output_path)\n",
    "cv2.imshow(\"Líneas Detectadas\", img)  # Mostrar la imagen en una ventana emergente\n",
    "\n",
    "# Esperar hasta que se presione una tecla para cerrar la ventana\n",
    "cv2.waitKey(0)\n",
    "cv2.destroyAllWindows()\n",
    "\n"
   ]
  }
 ],
 "metadata": {
  "kernelspec": {
   "display_name": "Python 3",
   "language": "python",
   "name": "python3"
  },
  "language_info": {
   "codemirror_mode": {
    "name": "ipython",
    "version": 3
   },
   "file_extension": ".py",
   "mimetype": "text/x-python",
   "name": "python",
   "nbconvert_exporter": "python",
   "pygments_lexer": "ipython3",
   "version": "3.11.9"
  }
 },
 "nbformat": 4,
 "nbformat_minor": 2
}
