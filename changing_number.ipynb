{
 "cells": [
  {
   "cell_type": "code",
   "execution_count": 3,
   "metadata": {},
   "outputs": [
    {
     "name": "stdout",
     "output_type": "stream",
     "text": [
      "Los archivos han sido modificados exitosamente.\n"
     ]
    }
   ],
   "source": [
    "import os\n",
    "\n",
    "# Ruta de la carpeta que contiene los archivos .txt\n",
    "folder_path = r\"C:\\Users\\yourk\\Desktop\\new_stop\\valid\\labels\"\n",
    "\n",
    "# Recorremos todos los archivos en la carpeta\n",
    "for filename in os.listdir(folder_path):\n",
    "    # Verificamos que sea un archivo .txt\n",
    "    if filename.endswith(\".txt\"):\n",
    "        # Ruta completa del archivo actual\n",
    "        file_path = os.path.join(folder_path, filename)\n",
    "        \n",
    "        # Abrimos el archivo para leer su contenido\n",
    "        with open(file_path, 'r') as file:\n",
    "            lines = file.readlines()\n",
    "        \n",
    "        # Modificamos el primer número en cada línea\n",
    "        modified_lines = []\n",
    "        for line in lines:\n",
    "            parts = line.strip().split()\n",
    "            if parts[0] == '0':\n",
    "                parts[0] = '3'  # Cambiamos el primer número de 0 a 3\n",
    "            modified_lines.append(\" \".join(parts) + \"\\n\")\n",
    "        \n",
    "        # Guardamos el contenido modificado de vuelta en el archivo\n",
    "        with open(file_path, 'w') as file:\n",
    "            file.writelines(modified_lines)\n",
    "\n",
    "print(\"Los archivos han sido modificados exitosamente.\")\n"
   ]
  }
 ],
 "metadata": {
  "kernelspec": {
   "display_name": "Python 3",
   "language": "python",
   "name": "python3"
  },
  "language_info": {
   "codemirror_mode": {
    "name": "ipython",
    "version": 3
   },
   "file_extension": ".py",
   "mimetype": "text/x-python",
   "name": "python",
   "nbconvert_exporter": "python",
   "pygments_lexer": "ipython3",
   "version": "3.11.9"
  }
 },
 "nbformat": 4,
 "nbformat_minor": 2
}
